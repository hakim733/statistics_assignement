{
 "cells": [
  {
   "cell_type": "markdown",
   "id": "7668dd61-36aa-49e3-84e7-3896946098f2",
   "metadata": {},
   "source": [
    "                                           statistic_lab"
   ]
  },
  {
   "cell_type": "markdown",
   "id": "f93b28df-253e-4cbe-81be-14f8fa17f90f",
   "metadata": {},
   "source": [
    "# Part one\n"
   ]
  },
  {
   "cell_type": "markdown",
   "id": "343b9318-49f6-4ebc-b0da-87d371b745e5",
   "metadata": {},
   "source": [
    "## Exercise 1.1"
   ]
  },
  {
   "cell_type": "code",
   "execution_count": 1,
   "id": "2ea2747f-d139-4544-bdb0-a7e9840e681b",
   "metadata": {},
   "outputs": [],
   "source": [
    "import pandas as pd\n",
    "import matplotlib.pyplot as plt\n",
    "\n",
    "\n"
   ]
  },
  {
   "cell_type": "code",
   "execution_count": 3,
   "id": "cec153fa-09f0-4830-8bc3-72e96982fd1b",
   "metadata": {},
   "outputs": [],
   "source": [
    "data = pd.read_excel(\"/Users/mac/Desktop/statistics-labs/Data_source.xlsx\")\n"
   ]
  },
  {
   "cell_type": "code",
   "execution_count": 4,
   "id": "b128224c-710d-4d9c-be96-cbad88d2dfd1",
   "metadata": {},
   "outputs": [
    {
     "data": {
      "text/html": [
       "<div>\n",
       "<style scoped>\n",
       "    .dataframe tbody tr th:only-of-type {\n",
       "        vertical-align: middle;\n",
       "    }\n",
       "\n",
       "    .dataframe tbody tr th {\n",
       "        vertical-align: top;\n",
       "    }\n",
       "\n",
       "    .dataframe thead th {\n",
       "        text-align: right;\n",
       "    }\n",
       "</style>\n",
       "<table border=\"1\" class=\"dataframe\">\n",
       "  <thead>\n",
       "    <tr style=\"text-align: right;\">\n",
       "      <th></th>\n",
       "      <th>Id</th>\n",
       "      <th>ethnicgp</th>\n",
       "      <th>gender</th>\n",
       "      <th>age</th>\n",
       "      <th>years</th>\n",
       "      <th>commit</th>\n",
       "      <th>satis</th>\n",
       "      <th>autonom</th>\n",
       "      <th>routine</th>\n",
       "      <th>attend</th>\n",
       "      <th>skill</th>\n",
       "      <th>prody</th>\n",
       "      <th>qual</th>\n",
       "      <th>absence</th>\n",
       "      <th>income</th>\n",
       "    </tr>\n",
       "  </thead>\n",
       "  <tbody>\n",
       "    <tr>\n",
       "      <th>0</th>\n",
       "      <td>1</td>\n",
       "      <td>1</td>\n",
       "      <td>1</td>\n",
       "      <td>29.0</td>\n",
       "      <td>1.0</td>\n",
       "      <td>4.0</td>\n",
       "      <td>NaN</td>\n",
       "      <td>10</td>\n",
       "      <td>9</td>\n",
       "      <td>2</td>\n",
       "      <td>3</td>\n",
       "      <td>NaN</td>\n",
       "      <td>1</td>\n",
       "      <td>7.0</td>\n",
       "      <td>16.6</td>\n",
       "    </tr>\n",
       "    <tr>\n",
       "      <th>1</th>\n",
       "      <td>2</td>\n",
       "      <td>2</td>\n",
       "      <td>1</td>\n",
       "      <td>26.0</td>\n",
       "      <td>5.0</td>\n",
       "      <td>2.0</td>\n",
       "      <td>NaN</td>\n",
       "      <td>7</td>\n",
       "      <td>15</td>\n",
       "      <td>1</td>\n",
       "      <td>3</td>\n",
       "      <td>4.0</td>\n",
       "      <td>4</td>\n",
       "      <td>8.0</td>\n",
       "      <td>14.6</td>\n",
       "    </tr>\n",
       "    <tr>\n",
       "      <th>2</th>\n",
       "      <td>3</td>\n",
       "      <td>3</td>\n",
       "      <td>1</td>\n",
       "      <td>40.0</td>\n",
       "      <td>5.0</td>\n",
       "      <td>4.0</td>\n",
       "      <td>15.0</td>\n",
       "      <td>7</td>\n",
       "      <td>8</td>\n",
       "      <td>1</td>\n",
       "      <td>4</td>\n",
       "      <td>3.0</td>\n",
       "      <td>4</td>\n",
       "      <td>0.0</td>\n",
       "      <td>17.8</td>\n",
       "    </tr>\n",
       "    <tr>\n",
       "      <th>3</th>\n",
       "      <td>4</td>\n",
       "      <td>3</td>\n",
       "      <td>1</td>\n",
       "      <td>46.0</td>\n",
       "      <td>15.0</td>\n",
       "      <td>2.0</td>\n",
       "      <td>7.0</td>\n",
       "      <td>7</td>\n",
       "      <td>10</td>\n",
       "      <td>2</td>\n",
       "      <td>3</td>\n",
       "      <td>3.0</td>\n",
       "      <td>4</td>\n",
       "      <td>4.0</td>\n",
       "      <td>16.4</td>\n",
       "    </tr>\n",
       "    <tr>\n",
       "      <th>4</th>\n",
       "      <td>5</td>\n",
       "      <td>2</td>\n",
       "      <td>2</td>\n",
       "      <td>63.0</td>\n",
       "      <td>36.0</td>\n",
       "      <td>4.0</td>\n",
       "      <td>14.0</td>\n",
       "      <td>11</td>\n",
       "      <td>18</td>\n",
       "      <td>1</td>\n",
       "      <td>3</td>\n",
       "      <td>5.0</td>\n",
       "      <td>3</td>\n",
       "      <td>0.0</td>\n",
       "      <td>18.6</td>\n",
       "    </tr>\n",
       "  </tbody>\n",
       "</table>\n",
       "</div>"
      ],
      "text/plain": [
       "   Id  ethnicgp  gender   age  years  commit  satis  autonom  routine  attend  \\\n",
       "0   1         1       1  29.0    1.0     4.0    NaN       10        9       2   \n",
       "1   2         2       1  26.0    5.0     2.0    NaN        7       15       1   \n",
       "2   3         3       1  40.0    5.0     4.0   15.0        7        8       1   \n",
       "3   4         3       1  46.0   15.0     2.0    7.0        7       10       2   \n",
       "4   5         2       2  63.0   36.0     4.0   14.0       11       18       1   \n",
       "\n",
       "   skill  prody  qual  absence  income  \n",
       "0      3    NaN     1      7.0    16.6  \n",
       "1      3    4.0     4      8.0    14.6  \n",
       "2      4    3.0     4      0.0    17.8  \n",
       "3      3    3.0     4      4.0    16.4  \n",
       "4      3    5.0     3      0.0    18.6  "
      ]
     },
     "execution_count": 4,
     "metadata": {},
     "output_type": "execute_result"
    }
   ],
   "source": [
    "data.head(5)\n"
   ]
  },
  {
   "cell_type": "markdown",
   "id": "6f695db7-6e88-4109-861d-6b4a9b3ce61f",
   "metadata": {},
   "source": [
    "## Gender-barchart"
   ]
  },
  {
   "cell_type": "markdown",
   "id": "183885fb-b3ed-4a6f-abb1-7720d01f97dd",
   "metadata": {},
   "source": [
    "###### Count the somma of each gender"
   ]
  },
  {
   "cell_type": "code",
   "execution_count": 5,
   "id": "7d58bd52-d2a0-4396-88db-5948569fa3cd",
   "metadata": {},
   "outputs": [],
   "source": [
    "gender_counts = data['gender'].value_counts()\n"
   ]
  },
  {
   "cell_type": "markdown",
   "id": "2221685e-da84-44f3-961c-c6fe125f1b3e",
   "metadata": {},
   "source": [
    "###### plot the graph using matplotlib library"
   ]
  },
  {
   "cell_type": "code",
   "execution_count": 6,
   "id": "ee846d9e-6596-4a72-b9c4-21a84760dc41",
   "metadata": {},
   "outputs": [
    {
     "data": {
      "image/png": "[encoded data removed]",
      "text/plain": [
       "<Figure size 500x200 with 1 Axes>"
      ]
     },
     "metadata": {},
     "output_type": "display_data"
    }
   ],
   "source": [
    "\n",
    "plt.figure(figsize=(5, 2))\n",
    "gender_counts.plot(kind='bar', color=['skyblue', 'lightgreen'])\n",
    "plt.title('Gender Distribution')\n",
    "plt.xlabel('Gender (1 = Male, 2 = Female)')\n",
    "plt.ylabel('Count')\n",
    "plt.xticks(rotation=0)\n",
    "plt.show()"
   ]
  },
  {
   "cell_type": "markdown",
   "id": "caf8fe41-004d-4988-9b4d-d41d22bb9524",
   "metadata": {},
   "source": [
    "## Ethnic group"
   ]
  },
  {
   "cell_type": "code",
   "execution_count": 7,
   "id": "9ececf36-1474-4413-abab-82b1fef9ec72",
   "metadata": {},
   "outputs": [
    {
     "data": {
      "image/png": "[encoded data removed]",
      "text/plain": [
       "<Figure size 300x300 with 1 Axes>"
      ]
     },
     "metadata": {},
     "output_type": "display_data"
    }
   ],
   "source": [
    "ethnic_counts = data['ethnicgp'].value_counts().sort_index()\n",
    "\n",
    "# Mapping numeric codes to actual ethnic group names\n",
    "ethnic_labels_mapping = {1: 'White', 2: 'Asian', 3: 'West Indian', 4: 'African', 5: 'Other'}\n",
    "ethnic_labels = [ethnic_labels_mapping[ethnic] for ethnic in ethnic_counts.index]\n",
    "\n",
    "# Create the pie chart with labels inside each slice\n",
    "plt.figure(figsize=(3, 3))\n",
    "plt.pie(ethnic_counts, labels=ethnic_labels, autopct='%1.1f%%', pctdistance=0.8, startangle=140)\n",
    "plt.title(\" Distribution\")\n",
    "plt.axis('equal')  # Equal aspect ratio ensures that pie is drawn as a circle.\n",
    "\n",
    "plt.show()"
   ]
  },
  {
   "cell_type": "markdown",
   "id": "c11f7f6a-1933-49e7-ad7d-38fd3c0710ee",
   "metadata": {},
   "source": [
    "## B)the five number summaries"
   ]
  },
  {
   "cell_type": "code",
   "execution_count": 8,
   "id": "b4706924-999a-4cc8-a6af-98962d7bedf9",
   "metadata": {},
   "outputs": [],
   "source": [
    "age_summary = data['age'].describe(percentiles=[0.25, 0.5, 0.75])\n",
    "min_age = age_summary['min']\n",
    "q1_age = age_summary['25%']\n",
    "median_age = age_summary['50%']\n",
    "q3_age = age_summary['75%']\n",
    "max_age = age_summary['max']\n",
    "\n",
    "# Display the five number summary\n",
    "age_summary_values = {\n",
    "    'Min': min_age,\n",
    "    'Q1 (25%)': q1_age,\n",
    "    'Median': median_age,\n",
    "    'Q3 (75%)': q3_age,\n",
    "    'Max': max_age\n",
    "}"
   ]
  },
  {
   "cell_type": "code",
   "execution_count": 53,
   "id": "9d1a2da4-1a0c-4f4c-98d6-e548ee7855de",
   "metadata": {},
   "outputs": [
    {
     "name": "stdout",
     "output_type": "stream",
     "text": [
      "Minumium= 18.0 Q1 (25%)=  29.0 Median =  39.0  Q3(75%) = 50.0 Max= 63.0\n"
     ]
    }
   ],
   "source": [
    "print(\"Minumium=\", min_age, \"Q1 (25%)= \", q1_age, \"Median = \",median_age , \" Q3(75%) =\", q3_age, \"Max=\",max_age )"
   ]
  },
  {
   "cell_type": "code",
   "execution_count": 9,
   "id": "8baf71e9-b2de-49a5-80ac-44735ec98218",
   "metadata": {},
   "outputs": [
    {
     "data": {
      "image/png": "[encoded data removed]",
      "text/plain": [
       "<Figure size 300x300 with 1 Axes>"
      ]
     },
     "metadata": {},
     "output_type": "display_data"
    }
   ],
   "source": [
    "plt.figure(figsize=(3, 3))\n",
    "plt.boxplot(\n",
    "    [[age_summary['min'], age_summary['25%'], \n",
    "      age_summary['50%'], age_summary['75%'], \n",
    "      age_summary['max']]], \n",
    "    vert=False, patch_artist=True,\n",
    "    boxprops=dict(facecolor='lightblue', color='black'),\n",
    "    medianprops=dict(color='red'),\n",
    "    whiskerprops=dict(color='black'),\n",
    "    capprops=dict(color='black')\n",
    ")\n",
    "\n",
    "# Set labels and titles\n",
    "plt.title(\" Box Plot of Age\")\n",
    "plt.xlabel('Age')\n",
    "plt.grid(True, axis='x', linestyle='--', alpha=0.7)\n",
    "\n",
    "# Show the plot\n",
    "plt.show()"
   ]
  },
  {
   "cell_type": "code",
   "execution_count": null,
   "id": "d5ea7ba3-6de3-4570-8f12-3371bae7249a",
   "metadata": {},
   "outputs": [],
   "source": [
    "# 25% of the participants in the survey are younger than 29 years, half of the partcipants are younger than 39 years old and the other half are older than 39 years old\n",
    "# The middle 50% of all participants are between 29 and 50 years old, no outliers, indicating a fairly even age distribution."
   ]
  },
  {
   "cell_type": "markdown",
   "id": "ffaa60fb-7aaa-4622-999a-b568f4724d82",
   "metadata": {},
   "source": [
    "## C)Mean and standard deviation"
   ]
  },
  {
   "cell_type": "code",
   "execution_count": 10,
   "id": "dbebbb08-532c-44b0-9456-8b096195d115",
   "metadata": {},
   "outputs": [
    {
     "name": "stdout",
     "output_type": "stream",
     "text": [
      "the mean of the income is = 15.63823529411765 the standard deviation of the income is = 1.9958935014633157\n"
     ]
    }
   ],
   "source": [
    "mean_income = data['income'].mean()\n",
    "std_income = data['income'].std()\n",
    "print(\"the mean of the income is =\", mean_income, \"the standard deviation of the income is =\",std_income)"
   ]
  },
  {
   "cell_type": "code",
   "execution_count": 11,
   "id": "65ce7118-191a-4181-b237-0340e0079d43",
   "metadata": {},
   "outputs": [
    {
     "data": {
      "image/png": "[encoded data removed]",
      "text/plain": [
       "<Figure size 700x200 with 1 Axes>"
      ]
     },
     "metadata": {},
     "output_type": "display_data"
    }
   ],
   "source": [
    "plt.figure(figsize=(7, 2))\n",
    "plt.hist(data['income'], bins=10, color='skyblue', edgecolor='black')\n",
    "plt.title('Histogram of Income')\n",
    "plt.xlabel('Income (in 1000£)')\n",
    "plt.ylabel('Frequency')\n",
    "plt.grid(True, axis='y', linestyle='--', alpha=0.7)"
   ]
  },
  {
   "cell_type": "code",
   "execution_count": null,
   "id": "a19c0888-8009-4868-9e85-f7ee78fe671f",
   "metadata": {},
   "outputs": [],
   "source": [
    "# Mean annual income = £15.638 and the standard deviation = £1.995 ==> most individuals' incomes fall between £13,643 and £17,633."
   ]
  },
  {
   "cell_type": "markdown",
   "id": "b0880f77-912c-4ec5-ad6c-67f3dd0c5974",
   "metadata": {},
   "source": [
    "## Exercise 1.2 "
   ]
  },
  {
   "cell_type": "code",
   "execution_count": 12,
   "id": "a3dca35b-b916-44d8-ac80-06750049116c",
   "metadata": {},
   "outputs": [
    {
     "data": {
      "image/png": "[encoded data removed]",
      "text/plain": [
       "<Figure size 800x200 with 1 Axes>"
      ]
     },
     "metadata": {},
     "output_type": "display_data"
    }
   ],
   "source": [
    "plt.figure(figsize=(8, 3))\n",
    "plt.scatter(data['income'], data['absence'], color='blue', edgecolor='black')\n",
    "plt.title('Scatter Plot of Income vs Absence')\n",
    "plt.xlabel('Income (in 1000£)')\n",
    "plt.ylabel('Absence (Days)')\n",
    "plt.grid(True, linestyle='-', alpha=0.7)\n",
    "\n",
    "# Show the scatter plot\n",
    "plt.show()"
   ]
  },
  {
   "cell_type": "code",
   "execution_count": null,
   "id": "e4f3eefd-e038-47f4-b8be-2ee4be31fe06",
   "metadata": {},
   "outputs": [],
   "source": []
  }
 ],
 "metadata": {
  "kernelspec": {
   "display_name": "Python 3 (ipykernel)",
   "language": "python",
   "name": "python3"
  },
  "language_info": {
   "codemirror_mode": {
    "name": "ipython",
    "version": 3
   },
   "file_extension": ".py",
   "mimetype": "text/x-python",
   "name": "python",
   "nbconvert_exporter": "python",
   "pygments_lexer": "ipython3",
   "version": "3.9.19"
  }
 },
 "nbformat": 4,
 "nbformat_minor": 5
}
